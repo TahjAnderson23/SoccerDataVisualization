{
 "cells": [
  {
   "cell_type": "code",
   "execution_count": 8,
   "metadata": {},
   "outputs": [],
   "source": [
    "import pandas as pd\n",
    "import numpy as np"
   ]
  },
  {
   "cell_type": "code",
   "execution_count": null,
   "metadata": {},
   "outputs": [],
   "source": [
    "data1 = pd.read_json(\"ProjectData/events_England.json\")"
   ]
  },
  {
   "cell_type": "code",
   "execution_count": 2,
   "metadata": {},
   "outputs": [],
   "source": [
    "def convert_json_to_csv(file_path, new_name):\n",
    "    df = pd.read_json(file_path)\n",
    "    df.to_csv(new_name, index = None)\n",
    "    print(df)"
   ]
  },
  {
   "cell_type": "code",
   "execution_count": null,
   "metadata": {},
   "outputs": [],
   "source": [
    "def cut_off_rows(file_path):\n",
    "    df = pd.read_csv(file_path)\n",
    "    df = df.loc[df[\"matchId\"] == 1694390]\n",
    "    print(df)"
   ]
  },
  {
   "cell_type": "code",
   "execution_count": null,
   "metadata": {},
   "outputs": [],
   "source": [
    "def eval_data(file_path):\n",
    "    df = pd.read_csv(file_path)\n",
    "    print(df)"
   ]
  },
  {
   "cell_type": "code",
   "execution_count": 4,
   "metadata": {},
   "outputs": [],
   "source": [
    "def combine_rows(data1, data2):\n",
    "    df1 = pd.read_csv(data1)\n",
    "    df2 = pd.read_csv(data2)\n",
    "\n",
    "    df = pd.merge(df1,df2[['playerId', 'firstName','lastName','role']], on='playerId', how='left')\n",
    "    #df['clean_roles'] = df['role'].str.replace('code2:', '')\n",
    "    df['clean_roles'] = df['role'].str[41:-2]\n",
    "    df['clean_roles'] = df['clean_roles'].replace(' ','')\n",
    "    df = df.drop(columns=['role'])\n",
    "    df.to_csv(\"ProjectData/england_events_with_names.csv\")\n",
    "\n",
    "    # df2 = df[df[\"eventName\"].str.contains(\"Pass\") == True]\n",
    "    # df2.reset_index()  "
   ]
  },
  {
   "cell_type": "code",
   "execution_count": 8,
   "metadata": {},
   "outputs": [],
   "source": [
    "def edit_columns(data1):\n",
    "    df = pd.read_csv(data1)\n",
    "    positions = df['positions']\n",
    "    \n",
    "\n",
    "    start_x = []\n",
    "    start_y = []\n",
    "    end_x = []\n",
    "    end_y = []\n",
    "\n",
    "    for val in positions:\n",
    "        start_y.append(list(eval(val))[0]['y'])\n",
    "        start_x.append(list(eval(val))[0]['x'])\n",
    "        end_y.append(list(eval(val))[-1]['y'])\n",
    "        end_x.append(list(eval(val))[-1]['x'])\n",
    "\n",
    "    #for val in res:\n",
    "    df['start_y'] = start_y\n",
    "    df['start_x'] = start_x\n",
    "    df['end_y'] = end_y\n",
    "    df['end_x'] = end_x\n",
    "\n",
    "    df.to_csv(\"ProjectData/england_events_with_names.csv\")"
   ]
  },
  {
   "cell_type": "code",
   "execution_count": null,
   "metadata": {},
   "outputs": [],
   "source": [
    "def iso_year(data1, data2):\n",
    "    df1 = pd.read_json(data1)\n",
    "    df2 = pd.read_json(data2)\n",
    "\n",
    "    print(df1)"
   ]
  },
  {
   "cell_type": "code",
   "execution_count": 5,
   "metadata": {},
   "outputs": [],
   "source": [
    "combine_rows(\"ProjectData/events_England.csv\", \"ProjectData/players.csv\")"
   ]
  },
  {
   "cell_type": "code",
   "execution_count": 9,
   "metadata": {},
   "outputs": [],
   "source": [
    "edit_columns(\"ProjectData/england_events_with_names.csv\")"
   ]
  },
  {
   "cell_type": "code",
   "execution_count": 3,
   "metadata": {},
   "outputs": [
    {
     "name": "stdout",
     "output_type": "stream",
     "text": [
      "                    city                   name   wyId  \\\n",
      "0    Newcastle upon Tyne       Newcastle United   1613   \n",
      "1                   Vigo          Celta de Vigo    692   \n",
      "2              Barcelona               Espanyol    691   \n",
      "3        Vitoria-Gasteiz  Deportivo Alav\\u00e9s    696   \n",
      "4               Valencia                Levante    695   \n",
      "..                   ...                    ...    ...   \n",
      "137            Las Rozas                  Spain   1598   \n",
      "138              Beograd                 Serbia  17322   \n",
      "139                 Bern            Switzerland   6697   \n",
      "140             Warszawa                 Poland  13869   \n",
      "141                Abuja                Nigeria  16823   \n",
      "\n",
      "                     officialName  \\\n",
      "0             Newcastle United FC   \n",
      "1         Real Club Celta de Vigo   \n",
      "2    Reial Club Deportiu Espanyol   \n",
      "3           Deportivo Alav\\u00e9s   \n",
      "4                      Levante UD   \n",
      "..                            ...   \n",
      "137                         Spain   \n",
      "138                        Serbia   \n",
      "139                   Switzerland   \n",
      "140                        Poland   \n",
      "141                       Nigeria   \n",
      "\n",
      "                                                  area      type  \n",
      "0    {'name': 'England', 'id': '0', 'alpha3code': '...      club  \n",
      "1    {'name': 'Spain', 'id': '724', 'alpha3code': '...      club  \n",
      "2    {'name': 'Spain', 'id': '724', 'alpha3code': '...      club  \n",
      "3    {'name': 'Spain', 'id': '724', 'alpha3code': '...      club  \n",
      "4    {'name': 'Spain', 'id': '724', 'alpha3code': '...      club  \n",
      "..                                                 ...       ...  \n",
      "137  {'name': 'Spain', 'id': 724, 'alpha3code': 'ES...  national  \n",
      "138  {'name': 'Serbia', 'id': 688, 'alpha3code': 'S...  national  \n",
      "139  {'name': 'Switzerland', 'id': 756, 'alpha3code...  national  \n",
      "140  {'name': 'Poland', 'id': 616, 'alpha3code': 'P...  national  \n",
      "141  {'name': 'Nigeria', 'id': 566, 'alpha3code': '...  national  \n",
      "\n",
      "[142 rows x 6 columns]\n"
     ]
    }
   ],
   "source": [
    "convert_json_to_csv(\"ProjectData/teams.json\", \"ProjectData/teams.csv\")"
   ]
  },
  {
   "cell_type": "code",
   "execution_count": 32,
   "metadata": {},
   "outputs": [],
   "source": [
    "def break_out_teams(teams_dataset, events_dataset):\n",
    "    teams_df = pd.read_json(teams_dataset)\n",
    "    events_df = pd.read_csv(events_dataset)\n",
    "\n",
    "    names = []\n",
    "    team_id = []\n",
    "    team_id = teams_df['wyId']\n",
    "\n",
    "    teams = teams_df['name']\n",
    "    for key in teams:\n",
    "        names.append(key)\n",
    "\n",
    "    df = pd.DataFrame(list(zip(names, team_id)),\n",
    "               columns =['Team_Name', 'teamId'])\n",
    "\n",
    "    final_df = pd.merge(events_df,df[['Team_Name', 'teamId']], on='teamId', how='left')\n",
    "\n",
    "\n",
    "    all_teams = final_df.Team_Name.unique()\n",
    "\n",
    "    # temp_df = final_df[final_df[\"Team_Name\"] == 'Arsenal']\n",
    "\n",
    "    for val in all_teams:\n",
    "        temp_df = final_df\n",
    "        temp_df = final_df[final_df[\"Team_Name\"] == val]\n",
    "        temp_df.to_csv(\"ProjectData/EnglishTeamsData/\" + val + \"_event_data.csv\")\n",
    "\n",
    "\n",
    "    #mergedData = pd.merge(moviesDF, ratingsDF[['Movie_id', 'Rating', 'Domestic_sales', 'International_sales']], on='Movie_id', how=left)\n",
    "\n",
    "\n"
   ]
  },
  {
   "cell_type": "code",
   "execution_count": 33,
   "metadata": {},
   "outputs": [],
   "source": [
    "break_out_teams(\"ProjectData/teams.json\", \"ProjectData/england_events_with_names.csv\")"
   ]
  },
  {
   "cell_type": "code",
   "execution_count": null,
   "metadata": {},
   "outputs": [],
   "source": [
    "def clean_data(dataset):\n",
    "    df = pd.read_csv(dataset)\n",
    "\n",
    "    "
   ]
  }
 ],
 "metadata": {
  "kernelspec": {
   "display_name": "Python 3.9.7 ('base')",
   "language": "python",
   "name": "python3"
  },
  "language_info": {
   "codemirror_mode": {
    "name": "ipython",
    "version": 3
   },
   "file_extension": ".py",
   "mimetype": "text/x-python",
   "name": "python",
   "nbconvert_exporter": "python",
   "pygments_lexer": "ipython3",
   "version": "3.9.7"
  },
  "orig_nbformat": 4,
  "vscode": {
   "interpreter": {
    "hash": "c6719a1f8fdcce1cebcfc2eb31bab8901cb1611cfaee711b806f799f6a28c1c8"
   }
  }
 },
 "nbformat": 4,
 "nbformat_minor": 2
}
