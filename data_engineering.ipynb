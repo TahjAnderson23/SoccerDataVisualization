{
 "cells": [
  {
   "cell_type": "code",
   "execution_count": 1,
   "metadata": {},
   "outputs": [],
   "source": [
    "import pandas as pd\n",
    "import numpy as np"
   ]
  },
  {
   "cell_type": "code",
   "execution_count": 62,
   "metadata": {},
   "outputs": [
    {
     "ename": "ValueError",
     "evalue": "Expected object or value",
     "output_type": "error",
     "traceback": [
      "\u001b[0;31m---------------------------------------------------------------------------\u001b[0m",
      "\u001b[0;31mValueError\u001b[0m                                Traceback (most recent call last)",
      "\u001b[0;32m/var/folders/t0/9dl8f01n5s7c0vftl_ys8lh80000gn/T/ipykernel_32932/258879450.py\u001b[0m in \u001b[0;36m<module>\u001b[0;34m\u001b[0m\n\u001b[0;32m----> 1\u001b[0;31m \u001b[0mdata1\u001b[0m \u001b[0;34m=\u001b[0m \u001b[0mpd\u001b[0m\u001b[0;34m.\u001b[0m\u001b[0mread_json\u001b[0m\u001b[0;34m(\u001b[0m\u001b[0;34m\"ProjectData/events_England.json\"\u001b[0m\u001b[0;34m)\u001b[0m\u001b[0;34m\u001b[0m\u001b[0;34m\u001b[0m\u001b[0m\n\u001b[0m",
      "\u001b[0;32m~/opt/anaconda3/lib/python3.9/site-packages/pandas/util/_decorators.py\u001b[0m in \u001b[0;36mwrapper\u001b[0;34m(*args, **kwargs)\u001b[0m\n\u001b[1;32m    205\u001b[0m                 \u001b[0;32melse\u001b[0m\u001b[0;34m:\u001b[0m\u001b[0;34m\u001b[0m\u001b[0;34m\u001b[0m\u001b[0m\n\u001b[1;32m    206\u001b[0m                     \u001b[0mkwargs\u001b[0m\u001b[0;34m[\u001b[0m\u001b[0mnew_arg_name\u001b[0m\u001b[0;34m]\u001b[0m \u001b[0;34m=\u001b[0m \u001b[0mnew_arg_value\u001b[0m\u001b[0;34m\u001b[0m\u001b[0;34m\u001b[0m\u001b[0m\n\u001b[0;32m--> 207\u001b[0;31m             \u001b[0;32mreturn\u001b[0m \u001b[0mfunc\u001b[0m\u001b[0;34m(\u001b[0m\u001b[0;34m*\u001b[0m\u001b[0margs\u001b[0m\u001b[0;34m,\u001b[0m \u001b[0;34m**\u001b[0m\u001b[0mkwargs\u001b[0m\u001b[0;34m)\u001b[0m\u001b[0;34m\u001b[0m\u001b[0;34m\u001b[0m\u001b[0m\n\u001b[0m\u001b[1;32m    208\u001b[0m \u001b[0;34m\u001b[0m\u001b[0m\n\u001b[1;32m    209\u001b[0m         \u001b[0;32mreturn\u001b[0m \u001b[0mcast\u001b[0m\u001b[0;34m(\u001b[0m\u001b[0mF\u001b[0m\u001b[0;34m,\u001b[0m \u001b[0mwrapper\u001b[0m\u001b[0;34m)\u001b[0m\u001b[0;34m\u001b[0m\u001b[0;34m\u001b[0m\u001b[0m\n",
      "\u001b[0;32m~/opt/anaconda3/lib/python3.9/site-packages/pandas/util/_decorators.py\u001b[0m in \u001b[0;36mwrapper\u001b[0;34m(*args, **kwargs)\u001b[0m\n\u001b[1;32m    309\u001b[0m                     \u001b[0mstacklevel\u001b[0m\u001b[0;34m=\u001b[0m\u001b[0mstacklevel\u001b[0m\u001b[0;34m,\u001b[0m\u001b[0;34m\u001b[0m\u001b[0;34m\u001b[0m\u001b[0m\n\u001b[1;32m    310\u001b[0m                 )\n\u001b[0;32m--> 311\u001b[0;31m             \u001b[0;32mreturn\u001b[0m \u001b[0mfunc\u001b[0m\u001b[0;34m(\u001b[0m\u001b[0;34m*\u001b[0m\u001b[0margs\u001b[0m\u001b[0;34m,\u001b[0m \u001b[0;34m**\u001b[0m\u001b[0mkwargs\u001b[0m\u001b[0;34m)\u001b[0m\u001b[0;34m\u001b[0m\u001b[0;34m\u001b[0m\u001b[0m\n\u001b[0m\u001b[1;32m    312\u001b[0m \u001b[0;34m\u001b[0m\u001b[0m\n\u001b[1;32m    313\u001b[0m         \u001b[0;32mreturn\u001b[0m \u001b[0mwrapper\u001b[0m\u001b[0;34m\u001b[0m\u001b[0;34m\u001b[0m\u001b[0m\n",
      "\u001b[0;32m~/opt/anaconda3/lib/python3.9/site-packages/pandas/io/json/_json.py\u001b[0m in \u001b[0;36mread_json\u001b[0;34m(path_or_buf, orient, typ, dtype, convert_axes, convert_dates, keep_default_dates, numpy, precise_float, date_unit, encoding, encoding_errors, lines, chunksize, compression, nrows, storage_options)\u001b[0m\n\u001b[1;32m    612\u001b[0m \u001b[0;34m\u001b[0m\u001b[0m\n\u001b[1;32m    613\u001b[0m     \u001b[0;32mwith\u001b[0m \u001b[0mjson_reader\u001b[0m\u001b[0;34m:\u001b[0m\u001b[0;34m\u001b[0m\u001b[0;34m\u001b[0m\u001b[0m\n\u001b[0;32m--> 614\u001b[0;31m         \u001b[0;32mreturn\u001b[0m \u001b[0mjson_reader\u001b[0m\u001b[0;34m.\u001b[0m\u001b[0mread\u001b[0m\u001b[0;34m(\u001b[0m\u001b[0;34m)\u001b[0m\u001b[0;34m\u001b[0m\u001b[0;34m\u001b[0m\u001b[0m\n\u001b[0m\u001b[1;32m    615\u001b[0m \u001b[0;34m\u001b[0m\u001b[0m\n\u001b[1;32m    616\u001b[0m \u001b[0;34m\u001b[0m\u001b[0m\n",
      "\u001b[0;32m~/opt/anaconda3/lib/python3.9/site-packages/pandas/io/json/_json.py\u001b[0m in \u001b[0;36mread\u001b[0;34m(self)\u001b[0m\n\u001b[1;32m    746\u001b[0m                 \u001b[0mobj\u001b[0m \u001b[0;34m=\u001b[0m \u001b[0mself\u001b[0m\u001b[0;34m.\u001b[0m\u001b[0m_get_object_parser\u001b[0m\u001b[0;34m(\u001b[0m\u001b[0mself\u001b[0m\u001b[0;34m.\u001b[0m\u001b[0m_combine_lines\u001b[0m\u001b[0;34m(\u001b[0m\u001b[0mdata_lines\u001b[0m\u001b[0;34m)\u001b[0m\u001b[0;34m)\u001b[0m\u001b[0;34m\u001b[0m\u001b[0;34m\u001b[0m\u001b[0m\n\u001b[1;32m    747\u001b[0m         \u001b[0;32melse\u001b[0m\u001b[0;34m:\u001b[0m\u001b[0;34m\u001b[0m\u001b[0;34m\u001b[0m\u001b[0m\n\u001b[0;32m--> 748\u001b[0;31m             \u001b[0mobj\u001b[0m \u001b[0;34m=\u001b[0m \u001b[0mself\u001b[0m\u001b[0;34m.\u001b[0m\u001b[0m_get_object_parser\u001b[0m\u001b[0;34m(\u001b[0m\u001b[0mself\u001b[0m\u001b[0;34m.\u001b[0m\u001b[0mdata\u001b[0m\u001b[0;34m)\u001b[0m\u001b[0;34m\u001b[0m\u001b[0;34m\u001b[0m\u001b[0m\n\u001b[0m\u001b[1;32m    749\u001b[0m         \u001b[0mself\u001b[0m\u001b[0;34m.\u001b[0m\u001b[0mclose\u001b[0m\u001b[0;34m(\u001b[0m\u001b[0;34m)\u001b[0m\u001b[0;34m\u001b[0m\u001b[0;34m\u001b[0m\u001b[0m\n\u001b[1;32m    750\u001b[0m         \u001b[0;32mreturn\u001b[0m \u001b[0mobj\u001b[0m\u001b[0;34m\u001b[0m\u001b[0;34m\u001b[0m\u001b[0m\n",
      "\u001b[0;32m~/opt/anaconda3/lib/python3.9/site-packages/pandas/io/json/_json.py\u001b[0m in \u001b[0;36m_get_object_parser\u001b[0;34m(self, json)\u001b[0m\n\u001b[1;32m    768\u001b[0m         \u001b[0mobj\u001b[0m \u001b[0;34m=\u001b[0m \u001b[0;32mNone\u001b[0m\u001b[0;34m\u001b[0m\u001b[0;34m\u001b[0m\u001b[0m\n\u001b[1;32m    769\u001b[0m         \u001b[0;32mif\u001b[0m \u001b[0mtyp\u001b[0m \u001b[0;34m==\u001b[0m \u001b[0;34m\"frame\"\u001b[0m\u001b[0;34m:\u001b[0m\u001b[0;34m\u001b[0m\u001b[0;34m\u001b[0m\u001b[0m\n\u001b[0;32m--> 770\u001b[0;31m             \u001b[0mobj\u001b[0m \u001b[0;34m=\u001b[0m \u001b[0mFrameParser\u001b[0m\u001b[0;34m(\u001b[0m\u001b[0mjson\u001b[0m\u001b[0;34m,\u001b[0m \u001b[0;34m**\u001b[0m\u001b[0mkwargs\u001b[0m\u001b[0;34m)\u001b[0m\u001b[0;34m.\u001b[0m\u001b[0mparse\u001b[0m\u001b[0;34m(\u001b[0m\u001b[0;34m)\u001b[0m\u001b[0;34m\u001b[0m\u001b[0;34m\u001b[0m\u001b[0m\n\u001b[0m\u001b[1;32m    771\u001b[0m \u001b[0;34m\u001b[0m\u001b[0m\n\u001b[1;32m    772\u001b[0m         \u001b[0;32mif\u001b[0m \u001b[0mtyp\u001b[0m \u001b[0;34m==\u001b[0m \u001b[0;34m\"series\"\u001b[0m \u001b[0;32mor\u001b[0m \u001b[0mobj\u001b[0m \u001b[0;32mis\u001b[0m \u001b[0;32mNone\u001b[0m\u001b[0;34m:\u001b[0m\u001b[0;34m\u001b[0m\u001b[0;34m\u001b[0m\u001b[0m\n",
      "\u001b[0;32m~/opt/anaconda3/lib/python3.9/site-packages/pandas/io/json/_json.py\u001b[0m in \u001b[0;36mparse\u001b[0;34m(self)\u001b[0m\n\u001b[1;32m    883\u001b[0m \u001b[0;34m\u001b[0m\u001b[0m\n\u001b[1;32m    884\u001b[0m         \u001b[0;32melse\u001b[0m\u001b[0;34m:\u001b[0m\u001b[0;34m\u001b[0m\u001b[0;34m\u001b[0m\u001b[0m\n\u001b[0;32m--> 885\u001b[0;31m             \u001b[0mself\u001b[0m\u001b[0;34m.\u001b[0m\u001b[0m_parse_no_numpy\u001b[0m\u001b[0;34m(\u001b[0m\u001b[0;34m)\u001b[0m\u001b[0;34m\u001b[0m\u001b[0;34m\u001b[0m\u001b[0m\n\u001b[0m\u001b[1;32m    886\u001b[0m \u001b[0;34m\u001b[0m\u001b[0m\n\u001b[1;32m    887\u001b[0m         \u001b[0;32mif\u001b[0m \u001b[0mself\u001b[0m\u001b[0;34m.\u001b[0m\u001b[0mobj\u001b[0m \u001b[0;32mis\u001b[0m \u001b[0;32mNone\u001b[0m\u001b[0;34m:\u001b[0m\u001b[0;34m\u001b[0m\u001b[0;34m\u001b[0m\u001b[0m\n",
      "\u001b[0;32m~/opt/anaconda3/lib/python3.9/site-packages/pandas/io/json/_json.py\u001b[0m in \u001b[0;36m_parse_no_numpy\u001b[0;34m(self)\u001b[0m\n\u001b[1;32m   1138\u001b[0m         \u001b[0;32mif\u001b[0m \u001b[0morient\u001b[0m \u001b[0;34m==\u001b[0m \u001b[0;34m\"columns\"\u001b[0m\u001b[0;34m:\u001b[0m\u001b[0;34m\u001b[0m\u001b[0;34m\u001b[0m\u001b[0m\n\u001b[1;32m   1139\u001b[0m             self.obj = DataFrame(\n\u001b[0;32m-> 1140\u001b[0;31m                 \u001b[0mloads\u001b[0m\u001b[0;34m(\u001b[0m\u001b[0mjson\u001b[0m\u001b[0;34m,\u001b[0m \u001b[0mprecise_float\u001b[0m\u001b[0;34m=\u001b[0m\u001b[0mself\u001b[0m\u001b[0;34m.\u001b[0m\u001b[0mprecise_float\u001b[0m\u001b[0;34m)\u001b[0m\u001b[0;34m,\u001b[0m \u001b[0mdtype\u001b[0m\u001b[0;34m=\u001b[0m\u001b[0;32mNone\u001b[0m\u001b[0;34m\u001b[0m\u001b[0;34m\u001b[0m\u001b[0m\n\u001b[0m\u001b[1;32m   1141\u001b[0m             )\n\u001b[1;32m   1142\u001b[0m         \u001b[0;32melif\u001b[0m \u001b[0morient\u001b[0m \u001b[0;34m==\u001b[0m \u001b[0;34m\"split\"\u001b[0m\u001b[0;34m:\u001b[0m\u001b[0;34m\u001b[0m\u001b[0;34m\u001b[0m\u001b[0m\n",
      "\u001b[0;31mValueError\u001b[0m: Expected object or value"
     ]
    }
   ],
   "source": [
    "data1 = pd.read_json(\"ProjectData/events_England.json\")"
   ]
  },
  {
   "cell_type": "code",
   "execution_count": null,
   "metadata": {},
   "outputs": [],
   "source": [
    "def convert_json_to_csv(file_path, new_name):\n",
    "    df = pd.read_json(file_path)\n",
    "    df.to_csv(new_name, index = None)\n",
    "    print(df)"
   ]
  },
  {
   "cell_type": "code",
   "execution_count": null,
   "metadata": {},
   "outputs": [],
   "source": [
    "def cut_off_rows(file_path):\n",
    "    df = pd.read_csv(file_path)\n",
    "    df = df.loc[df[\"matchId\"] == 1694390]\n",
    "    print(df)"
   ]
  },
  {
   "cell_type": "code",
   "execution_count": null,
   "metadata": {},
   "outputs": [],
   "source": [
    "def eval_data(file_path):\n",
    "    df = pd.read_csv(file_path)\n",
    "    print(df)"
   ]
  },
  {
   "cell_type": "code",
   "execution_count": null,
   "metadata": {},
   "outputs": [],
   "source": [
    "def combine_rows(data1, data2):\n",
    "    df1 = pd.read_csv(data1)\n",
    "    df2 = pd.read_csv(data2)\n",
    "\n",
    "    df = pd.merge(df1,df2[['playerId', 'firstName','lastName','role']], on='playerId', how='left')\n",
    "    #df['clean_roles'] = df['role'].str.replace('code2:', '')\n",
    "    df['clean_roles'] = df['role'].str[41:-2]\n",
    "    df['clean_roles'] = df['clean_roles'].replace(' ','')\n",
    "    df = df.drop(columns=['role'])\n",
    "    df.to_csv(\"ProjectData/england_events_with_names.csv\")\n",
    "\n",
    "    # df2 = df[df[\"eventName\"].str.contains(\"Pass\") == True]\n",
    "    # df2.reset_index()  "
   ]
  },
  {
   "cell_type": "code",
   "execution_count": null,
   "metadata": {},
   "outputs": [],
   "source": [
    "def edit_columns(data1):\n",
    "    df = pd.read_csv(data1)\n",
    "    positions = df['positions']\n",
    "    \n",
    "\n",
    "    start_x = []\n",
    "    start_y = []\n",
    "    end_x = []\n",
    "    end_y = []\n",
    "\n",
    "    for val in positions:\n",
    "        start_y.append(list(eval(val))[0]['y'])\n",
    "        start_x.append(list(eval(val))[0]['x'])\n",
    "        end_y.append(list(eval(val))[-1]['y'])\n",
    "        end_x.append(list(eval(val))[-1]['x'])\n",
    "\n",
    "    #for val in res:\n",
    "    df['start_y'] = start_y\n",
    "    df['start_x'] = start_x\n",
    "    df['end_y'] = end_y\n",
    "    df['end_x'] = end_x\n",
    "\n",
    "    df.to_csv(\"ProjectData/england_events_with_names.csv\")"
   ]
  },
  {
   "cell_type": "code",
   "execution_count": null,
   "metadata": {},
   "outputs": [],
   "source": [
    "def iso_year(data1, data2):\n",
    "    df1 = pd.read_json(data1)\n",
    "    df2 = pd.read_json(data2)\n",
    "\n",
    "    print(df1)"
   ]
  },
  {
   "cell_type": "code",
   "execution_count": null,
   "metadata": {},
   "outputs": [],
   "source": [
    "combine_rows(\"ProjectData/events_England.csv\", \"ProjectData/players.csv\")"
   ]
  },
  {
   "cell_type": "code",
   "execution_count": null,
   "metadata": {},
   "outputs": [],
   "source": [
    "edit_columns(\"ProjectData/england_events_with_names.csv\")"
   ]
  },
  {
   "cell_type": "code",
   "execution_count": null,
   "metadata": {},
   "outputs": [
    {
     "name": "stdout",
     "output_type": "stream",
     "text": [
      "                    city                   name   wyId  \\\n",
      "0    Newcastle upon Tyne       Newcastle United   1613   \n",
      "1                   Vigo          Celta de Vigo    692   \n",
      "2              Barcelona               Espanyol    691   \n",
      "3        Vitoria-Gasteiz  Deportivo Alav\\u00e9s    696   \n",
      "4               Valencia                Levante    695   \n",
      "..                   ...                    ...    ...   \n",
      "137            Las Rozas                  Spain   1598   \n",
      "138              Beograd                 Serbia  17322   \n",
      "139                 Bern            Switzerland   6697   \n",
      "140             Warszawa                 Poland  13869   \n",
      "141                Abuja                Nigeria  16823   \n",
      "\n",
      "                     officialName  \\\n",
      "0             Newcastle United FC   \n",
      "1         Real Club Celta de Vigo   \n",
      "2    Reial Club Deportiu Espanyol   \n",
      "3           Deportivo Alav\\u00e9s   \n",
      "4                      Levante UD   \n",
      "..                            ...   \n",
      "137                         Spain   \n",
      "138                        Serbia   \n",
      "139                   Switzerland   \n",
      "140                        Poland   \n",
      "141                       Nigeria   \n",
      "\n",
      "                                                  area      type  \n",
      "0    {'name': 'England', 'id': '0', 'alpha3code': '...      club  \n",
      "1    {'name': 'Spain', 'id': '724', 'alpha3code': '...      club  \n",
      "2    {'name': 'Spain', 'id': '724', 'alpha3code': '...      club  \n",
      "3    {'name': 'Spain', 'id': '724', 'alpha3code': '...      club  \n",
      "4    {'name': 'Spain', 'id': '724', 'alpha3code': '...      club  \n",
      "..                                                 ...       ...  \n",
      "137  {'name': 'Spain', 'id': 724, 'alpha3code': 'ES...  national  \n",
      "138  {'name': 'Serbia', 'id': 688, 'alpha3code': 'S...  national  \n",
      "139  {'name': 'Switzerland', 'id': 756, 'alpha3code...  national  \n",
      "140  {'name': 'Poland', 'id': 616, 'alpha3code': 'P...  national  \n",
      "141  {'name': 'Nigeria', 'id': 566, 'alpha3code': '...  national  \n",
      "\n",
      "[142 rows x 6 columns]\n"
     ]
    }
   ],
   "source": [
    "convert_json_to_csv(\"ProjectData/teams.json\", \"ProjectData/teams.csv\")"
   ]
  },
  {
   "cell_type": "code",
   "execution_count": 4,
   "metadata": {},
   "outputs": [],
   "source": [
    "def clean_data(df):\n",
    "\n",
    "    df['clean_roles'] = df['clean_roles'].replace(np.nan, 'IDK')\n",
    "    df['firstName'] = df['firstName'].replace(np.nan, 'IDK')\n",
    "    df['lastName'] = df['lastName'].replace(np.nan, 'IDK')\n",
    "    return df\n",
    "\n",
    "\n",
    "\n",
    "    "
   ]
  },
  {
   "cell_type": "code",
   "execution_count": 29,
   "metadata": {},
   "outputs": [],
   "source": [
    "def break_out_teams(teams_dataset, events_dataset):\n",
    "    teams_df = pd.read_json(teams_dataset)\n",
    "    events_df = pd.read_csv(events_dataset)\n",
    "\n",
    "    names = []\n",
    "    team_id = []\n",
    "    team_id = teams_df['wyId']\n",
    "\n",
    "    teams = teams_df['name']\n",
    "    for key in teams:\n",
    "        names.append(key)\n",
    "\n",
    "    df = pd.DataFrame(list(zip(names, team_id)),\n",
    "               columns =['Team_Name', 'teamId'])\n",
    "\n",
    "    final_df = pd.merge(events_df,df[['Team_Name', 'teamId']], on='teamId', how='left')\n",
    "\n",
    "\n",
    "    all_teams = final_df.Team_Name.unique()\n",
    "\n",
    "    # temp_df = final_df[final_df[\"Team_Name\"] == 'Arsenal']\n",
    "\n",
    "    for val in all_teams:\n",
    "        temp_df = final_df\n",
    "        temp_df = final_df[final_df[\"Team_Name\"] == val]\n",
    "        temp_df = clean_data(temp_df)\n",
    "        temp_df['True_Index'] = range(0, len(temp_df))\n",
    "        temp_df.to_csv(\"ProjectData/Serie A/\" + val + \"_event_data.csv\")\n",
    "\n",
    "\n",
    "    #mergedData = pd.merge(moviesDF, ratingsDF[['Movie_id', 'Rating', 'Domestic_sales', 'International_sales']], on='Movie_id', how=left)\n",
    "\n",
    "\n"
   ]
  },
  {
   "cell_type": "code",
   "execution_count": 30,
   "metadata": {},
   "outputs": [],
   "source": [
    "break_out_teams(\"ProjectData/teams.json\", \"ProjectData/italy_events_with_names.csv\")"
   ]
  },
  {
   "cell_type": "code",
   "execution_count": 60,
   "metadata": {},
   "outputs": [
    {
     "name": "stdout",
     "output_type": "stream",
     "text": [
      "['Alexandre' 'Rob' 'Mesut' 'Mohamed Naser' 'H\\\\u00e9ctor' 'IDK' 'Granit'\n",
      " 'Sead' 'Ignacio' 'Petr' 'Daniel Nii' 'Alex' 'Olivier' 'Aaron' 'Theo '\n",
      " 'Shkodran' 'Alexis Alejandro' 'Laurent' 'Francis' 'Per' 'Jack' 'Ainsley'\n",
      " 'Calum' 'Reiss' 'Henrikh' 'Pierre-Emerick' 'David' 'Eddie' 'Konstantinos'\n",
      " 'Joe']\n",
      "['Lacazette' 'Holding' '\\\\u00d6zil' 'Elsayed Elneny'\n",
      " 'Beller\\\\u00edn Moruno' 'IDK' 'Xhaka' 'Kola\\\\u0161inac' 'Monreal Eraso'\n",
      " '\\\\u010cech' 'Tackie Mensah Welbeck' 'Oxlade-Chamberlain' 'Giroud'\n",
      " 'Ramsey' 'Walcott' 'Mustafi' 'Iwobi' 'S\\\\u00e1nchez S\\\\u00e1nchez'\n",
      " 'Koscielny' 'Coquelin' 'Mertesacker' 'Wilshere' 'Maitland-Niles'\n",
      " 'Chambers' 'Nelson' 'Mkhitaryan' 'Aubameyang' 'Ospina Ram\\\\u00edrez'\n",
      " 'Nketiah' 'Mavropanos' 'Willock']\n",
      "['Forward' 'Defender' 'Midfielder' 'IDK' 'Goalkeeper']\n"
     ]
    }
   ],
   "source": [
    "clean_data(\"ProjectData/Premier League/Arsenal_event_data.csv\")"
   ]
  },
  {
   "cell_type": "code",
   "execution_count": 33,
   "metadata": {},
   "outputs": [
    {
     "name": "stdout",
     "output_type": "stream",
     "text": [
      "1        Juventus\n",
      "2          Napoli\n",
      "9            Roma\n",
      "16          Inter\n",
      "18          Lazio\n",
      "24       Atalanta\n",
      "26       AC Milan\n",
      "30     Fiorentina\n",
      "34      Sampdoria\n",
      "41         Torino\n",
      "49       Sassuolo\n",
      "51        Bologna\n",
      "56        Udinese\n",
      "57       Cagliari\n",
      "73        Crotone\n",
      "74         Chievo\n",
      "81          Genoa\n",
      "96        Palermo\n",
      "97         Verona\n",
      "100        Empoli\n",
      "102     SPAL 2013\n",
      "106       Pescara\n",
      "108     Benevento\n",
      "Name: team, dtype: object\n"
     ]
    }
   ],
   "source": [
    "df = pd.read_csv(\"ProjectData/bubble1718.csv\")\n",
    "df=df.query(\"league == 'Serie A'\")\n",
    "print(df.team)"
   ]
  }
 ],
 "metadata": {
  "kernelspec": {
   "display_name": "Python 3.8.5 64-bit",
   "language": "python",
   "name": "python3"
  },
  "language_info": {
   "codemirror_mode": {
    "name": "ipython",
    "version": 3
   },
   "file_extension": ".py",
   "mimetype": "text/x-python",
   "name": "python",
   "nbconvert_exporter": "python",
   "pygments_lexer": "ipython3",
   "version": "3.8.5"
  },
  "orig_nbformat": 4,
  "vscode": {
   "interpreter": {
    "hash": "aee8b7b246df8f9039afb4144a1f6fd8d2ca17a180786b69acc140d282b71a49"
   }
  }
 },
 "nbformat": 4,
 "nbformat_minor": 2
}
